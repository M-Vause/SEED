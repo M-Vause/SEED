{
 "cells": [
  {
   "cell_type": "code",
   "execution_count": 25,
   "metadata": {},
   "outputs": [
    {
     "name": "stdout",
     "output_type": "stream",
     "text": [
      "['/Users/michael/Documents/Uni/Course/Year 4/Project/Programming/Final/Algorithms/pySINDy/examples', '/Users/michael/opt/anaconda3/lib/python37.zip', '/Users/michael/opt/anaconda3/lib/python3.7', '/Users/michael/opt/anaconda3/lib/python3.7/lib-dynload', '', '/Users/michael/opt/anaconda3/lib/python3.7/site-packages', '/Users/michael/opt/anaconda3/lib/python3.7/site-packages/aeosa', '/Users/michael/opt/anaconda3/lib/python3.7/site-packages/IPython/extensions', '/Users/michael/.ipython', '/Users/michael/Documents/Uni/Course/Year 4/Project/Programming/Final/Algorithms/pySINDy']\n"
     ]
    }
   ],
   "source": [
    "import os\n",
    "import sys\n",
    "module_path = os.path.abspath(os.path.join('..'))\n",
    "#module_path = module_path + \"/Final/Algorithms/pySINDy\"\n",
    "if module_path not in sys.path:\n",
    "    sys.path.append(module_path)\n",
    "\n",
    "print(sys.path)\n",
    "\n",
    "from pySINDy.sindy import SINDy\n",
    "import numpy as np\n",
    "import csv\n"
   ]
  },
  {
   "cell_type": "code",
   "execution_count": 26,
   "metadata": {},
   "outputs": [
    {
     "name": "stdout",
     "output_type": "stream",
     "text": [
      "[]\n",
      "[]\n"
     ]
    }
   ],
   "source": [
    "data_path = 'Test1.csv' #+ input_data\n",
    "\n",
    "x = np.array([])\n",
    "y = np.array([])\n",
    "print(x)\n",
    "print(y)\n"
   ]
  },
  {
   "cell_type": "code",
   "execution_count": 27,
   "metadata": {},
   "outputs": [],
   "source": [
    "#code to create x & y values\n",
    "with open(data_path) as csvfile:\n",
    "    readCSV = csv.reader(csvfile, delimiter=',')\n",
    "    for row in readCSV:\n",
    "        new_x = float(row[0])\n",
    "        new_y = float(row[1])\n",
    "        x = np.append(x,new_x)\n",
    "        y = np.append(y,new_y)\n"
   ]
  },
  {
   "cell_type": "code",
   "execution_count": 28,
   "metadata": {},
   "outputs": [
    {
     "name": "stdout",
     "output_type": "stream",
     "text": [
      "[ 1.  2.  3.  4.  5.  6.  7.  8.  9. 10.]\n",
      "[ -1.  -2.  -3.  -4.  -5.  -6.  -7.  -8.  -9. -10.]\n",
      "[[  1.   2.   3.   4.   5.   6.   7.   8.   9.  10.]\n",
      " [ -1.  -2.  -3.  -4.  -5.  -6.  -7.  -8.  -9. -10.]]\n"
     ]
    }
   ],
   "source": [
    "print(x)\n",
    "print(y)\n",
    "data = np.append([x],[y],axis=0)\n",
    "print(data)\n"
   ]
  },
  {
   "cell_type": "code",
   "execution_count": 29,
   "metadata": {},
   "outputs": [
    {
     "data": {
      "text/plain": [
       "<pySINDy.sindy.SINDy at 0xa15b1b110>"
      ]
     },
     "execution_count": 29,
     "metadata": {},
     "output_type": "execute_result"
    }
   ],
   "source": [
    "dt = 0.1 #take out for final version\n",
    "model = SINDy(name='SINDy model for Own Data')\n",
    "model.fit(data, dt, poly_degree=3, cut_off=0.01)\n"
   ]
  },
  {
   "cell_type": "code",
   "execution_count": 30,
   "metadata": {},
   "outputs": [],
   "source": [
    "coef = model.coefficients\n",
    "desc = model.descriptions\n"
   ]
  },
  {
   "cell_type": "code",
   "execution_count": 31,
   "metadata": {},
   "outputs": [
    {
     "name": "stdout",
     "output_type": "stream",
     "text": [
      "[[ 10. -10.]\n",
      " [  0.   0.]\n",
      " [  0.   0.]\n",
      " [  0.   0.]\n",
      " [  0.   0.]\n",
      " [  0.   0.]\n",
      " [  0.   0.]\n",
      " [  0.   0.]\n",
      " [  0.   0.]\n",
      " [  0.   0.]]\n",
      "['1', 'u0', 'u1', 'u0^{2}', 'u0u1', 'u1^{2}', 'u0^{3}', 'u0^{2}u1', 'u0u1^{2}', 'u1^{3}']\n"
     ]
    }
   ],
   "source": [
    "#return coef,desc\n",
    "print(coef)\n",
    "print(desc)"
   ]
  },
  {
   "cell_type": "code",
   "execution_count": null,
   "metadata": {},
   "outputs": [],
   "source": []
  }
 ],
 "metadata": {
  "kernelspec": {
   "display_name": "Python 3",
   "language": "python",
   "name": "python3"
  },
  "language_info": {
   "codemirror_mode": {
    "name": "ipython",
    "version": 3
   },
   "file_extension": ".py",
   "mimetype": "text/x-python",
   "name": "python",
   "nbconvert_exporter": "python",
   "pygments_lexer": "ipython3",
   "version": "3.7.4"
  }
 },
 "nbformat": 4,
 "nbformat_minor": 2
}
