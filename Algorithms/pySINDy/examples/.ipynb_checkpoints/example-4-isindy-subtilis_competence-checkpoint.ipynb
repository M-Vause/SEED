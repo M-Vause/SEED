{
 "cells": [
  {
   "cell_type": "markdown",
   "metadata": {},
   "source": [
    "# Demo: Implicit SINDy example subtilis_competence"
   ]
  },
  {
   "cell_type": "markdown",
   "metadata": {},
   "source": [
    "### created by Yi Chu, 12/05/18"
   ]
  },
  {
   "cell_type": "code",
   "execution_count": 1,
   "metadata": {},
   "outputs": [],
   "source": [
    "import os\n",
    "import sys\n",
    "module_path = os.path.abspath(os.path.join('..'))\n",
    "if module_path not in sys.path:\n",
    "    sys.path.append(module_path)"
   ]
  },
  {
   "cell_type": "code",
   "execution_count": 2,
   "metadata": {},
   "outputs": [],
   "source": [
    "import numpy as np\n",
    "import scipy as sp\n",
    "import scipy.integrate as integrate\n",
    "import matplotlib.pyplot as plt\n",
    "from pySINDy.sindypde import SINDyPDE\n",
    "from pySINDy.isindy import ISINDy"
   ]
  },
  {
   "cell_type": "markdown",
   "metadata": {},
   "source": [
    "##### generate our system"
   ]
  },
  {
   "cell_type": "code",
   "execution_count": 3,
   "metadata": {},
   "outputs": [],
   "source": [
    "def subtilis_competence(t,S):\n",
    "    S_1 = S[0]\n",
    "    S_2 = S[1]\n",
    "\n",
    "    a1 = 0.004\n",
    "    a2 = 0.07\n",
    "    a3 = 0.04\n",
    "    b1 = 0.82\n",
    "    b2 = 1854.5\n",
    "\n",
    "\n",
    "    v1 = (a2*S_1**2)/(a3+S_1**2)\n",
    "    v2 = b1/(1+b2*S_1**5)\n",
    "    v3 = S_1/(1+S_1+S_2)\n",
    "    v4 = S_2/(1+S_1+S_2)\n",
    "    \n",
    "    return [a1 + v1 - v3, v2 - v4]"
   ]
  },
  {
   "cell_type": "code",
   "execution_count": 4,
   "metadata": {},
   "outputs": [],
   "source": [
    "n = 2\n",
    "dt = 0.001\n",
    "tspan = np.arange(0, 5 + dt, dt)\n",
    "len_t = len(tspan)\n",
    "np.random.seed(0)\n",
    "sinit = np.random.rand(n)\n",
    "sol = integrate.solve_ivp(subtilis_competence, [0, len_t], sinit, \n",
    "                          t_eval=tspan, rtol = 1e-7, atol = 1e-7)\n",
    "\n",
    "xt = sol.y"
   ]
  },
  {
   "cell_type": "markdown",
   "metadata": {},
   "source": [
    "##### create isindy model"
   ]
  },
  {
   "cell_type": "code",
   "execution_count": 5,
   "metadata": {},
   "outputs": [
    {
     "name": "stderr",
     "output_type": "stream",
     "text": [
      "/Library/Frameworks/Python.framework/Versions/3.6/lib/python3.6/site-packages/findiff/findiff.py:242: FutureWarning: Using a non-tuple sequence for multidimensional indexing is deprecated; use `arr[tuple(seq)]` instead of `arr[seq]`. In the future this will be interpreted as an array index, `arr[np.array(seq)]`, which will result either in an error or a different result.\n",
      "  yd[ref_multi_slice] += w * y[off_multi_slice]\n"
     ]
    }
   ],
   "source": [
    "isindy_model = ISINDy(name = 'isindy')\n",
    "data = isindy_model.fit(xt, 0.001, poly_degree=5)"
   ]
  },
  {
   "cell_type": "markdown",
   "metadata": {},
   "source": [
    "##### find and plot coefficients"
   ]
  },
  {
   "cell_type": "code",
   "execution_count": 6,
   "metadata": {},
   "outputs": [
    {
     "data": {
      "text/plain": [
       "array([[ 0.        ,  0.        ],\n",
       "       [ 0.        ,  0.        ],\n",
       "       [ 0.        ,  0.        ],\n",
       "       [ 0.        ,  0.        ],\n",
       "       [ 0.        ,  0.        ],\n",
       "       [ 0.        ,  0.        ],\n",
       "       [ 0.        ,  0.        ],\n",
       "       [ 0.        ,  0.        ],\n",
       "       [ 0.        ,  0.        ],\n",
       "       [ 0.        ,  0.        ],\n",
       "       [ 0.07426819,  0.        ],\n",
       "       [ 0.        ,  0.        ],\n",
       "       [ 0.        ,  0.        ],\n",
       "       [ 0.        ,  0.        ],\n",
       "       [ 0.        ,  0.        ],\n",
       "       [ 0.        ,  0.        ],\n",
       "       [ 0.6182935 ,  0.        ],\n",
       "       [ 0.        ,  0.        ],\n",
       "       [-0.50142118, -0.05050578],\n",
       "       [-0.23934292,  0.        ],\n",
       "       [ 0.        ,  0.        ],\n",
       "       [ 0.        ,  0.        ],\n",
       "       [ 0.        ,  0.        ],\n",
       "       [ 0.        ,  0.        ],\n",
       "       [ 0.        ,  0.        ],\n",
       "       [ 0.        ,  0.        ],\n",
       "       [ 0.        ,  0.        ],\n",
       "       [ 0.        ,  0.        ],\n",
       "       [ 0.        , -0.06515257],\n",
       "       [ 0.        ,  0.        ],\n",
       "       [ 0.        ,  0.        ],\n",
       "       [-0.41288832,  0.3334526 ],\n",
       "       [ 0.        ,  0.        ],\n",
       "       [ 0.3449777 ,  0.        ],\n",
       "       [ 0.        ,  0.        ],\n",
       "       [ 0.        ,  0.        ],\n",
       "       [ 0.        ,  0.        ],\n",
       "       [ 0.        ,  0.52961513],\n",
       "       [ 0.        ,  0.        ],\n",
       "       [ 0.        , -0.76744463],\n",
       "       [ 0.        ,  0.        ],\n",
       "       [ 0.        ,  0.        ]])"
      ]
     },
     "execution_count": 6,
     "metadata": {},
     "output_type": "execute_result"
    }
   ],
   "source": [
    "isindy_model.coefficients"
   ]
  },
  {
   "cell_type": "code",
   "execution_count": 7,
   "metadata": {},
   "outputs": [
    {
     "data": {
      "text/plain": [
       "['1',\n",
       " 'u0',\n",
       " 'u1',\n",
       " 'u0^{2}',\n",
       " 'u0u1',\n",
       " 'u1^{2}',\n",
       " 'u0^{3}',\n",
       " 'u0^{2}u1',\n",
       " 'u0u1^{2}',\n",
       " 'u1^{3}',\n",
       " 'u0^{4}',\n",
       " 'u1^{4}',\n",
       " 'u0^{3}u1',\n",
       " 'u0^{2}u1^{2}',\n",
       " 'u0u1^{3}',\n",
       " 'u0^{2}u1^{3}',\n",
       " 'u0^{4}u1',\n",
       " 'u0u1^{4}',\n",
       " 'u0^{5}',\n",
       " 'u0^{3}u1^{2}',\n",
       " 'u1^{5}',\n",
       " 'uk_{t}',\n",
       " 'u0uk_{t}',\n",
       " 'u1uk_{t}',\n",
       " 'u0^{2}uk_{t}',\n",
       " 'u0u1uk_{t}',\n",
       " 'u1^{2}uk_{t}',\n",
       " 'u0^{3}uk_{t}',\n",
       " 'u0^{2}u1uk_{t}',\n",
       " 'u0u1^{2}uk_{t}',\n",
       " 'u1^{3}uk_{t}',\n",
       " 'u0^{4}uk_{t}',\n",
       " 'u1^{4}uk_{t}',\n",
       " 'u0^{3}u1uk_{t}',\n",
       " 'u0^{2}u1^{2}uk_{t}',\n",
       " 'u0u1^{3}uk_{t}',\n",
       " 'u0^{2}u1^{3}uk_{t}',\n",
       " 'u0^{4}u1uk_{t}',\n",
       " 'u0u1^{4}uk_{t}',\n",
       " 'u0^{5}uk_{t}',\n",
       " 'u0^{3}u1^{2}uk_{t}',\n",
       " 'u1^{5}uk_{t}']"
      ]
     },
     "execution_count": 7,
     "metadata": {},
     "output_type": "execute_result"
    }
   ],
   "source": [
    "isindy_model.descriptions"
   ]
  },
  {
   "cell_type": "code",
   "execution_count": 8,
   "metadata": {},
   "outputs": [
    {
     "data": {
      "image/png": "[encoded data removed]",
      "text/plain": [
       "<Figure size 3200x400 with 2 Axes>"
      ]
     },
     "metadata": {},
     "output_type": "display_data"
    }
   ],
   "source": [
    "isindy_model.plot_coefficients"
   ]
  },
  {
   "cell_type": "code",
   "execution_count": null,
   "metadata": {},
   "outputs": [],
   "source": []
  }
 ],
 "metadata": {
  "kernelspec": {
   "display_name": "Python 3",
   "language": "python",
   "name": "python3"
  },
  "language_info": {
   "codemirror_mode": {
    "name": "ipython",
    "version": 3
   },
   "file_extension": ".py",
   "mimetype": "text/x-python",
   "name": "python",
   "nbconvert_exporter": "python",
   "pygments_lexer": "ipython3",
   "version": "3.6.4"
  }
 },
 "nbformat": 4,
 "nbformat_minor": 2
}
