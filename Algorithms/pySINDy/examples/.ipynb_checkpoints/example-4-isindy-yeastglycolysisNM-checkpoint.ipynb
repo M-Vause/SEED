{
 "cells": [
  {
   "cell_type": "markdown",
   "metadata": {},
   "source": [
    "# Demo: Implicit SINDy example"
   ]
  },
  {
   "cell_type": "code",
   "execution_count": 1,
   "metadata": {},
   "outputs": [],
   "source": [
    "import os\n",
    "import sys\n",
    "module_path = os.path.abspath(os.path.join('..'))\n",
    "if module_path not in sys.path:\n",
    "    sys.path.append(module_path)"
   ]
  },
  {
   "cell_type": "code",
   "execution_count": 2,
   "metadata": {},
   "outputs": [],
   "source": [
    "import numpy as np\n",
    "import scipy as sp\n",
    "import scipy.integrate as integrate\n",
    "from pySINDy.sindypde import SINDyPDE\n",
    "from pySINDy.isindy import ISINDy"
   ]
  },
  {
   "cell_type": "code",
   "execution_count": 3,
   "metadata": {},
   "outputs": [],
   "source": [
    "def yeastglycolysisNM(t,S):\n",
    "    S_1 = S[0]\n",
    "    S_2 = S[1]\n",
    "\n",
    "    a1 = 0.004\n",
    "    a2 = 0.07\n",
    "    a3 = 0.04\n",
    "    b1 = 0.82\n",
    "    b2 = 1854.5\n",
    "\n",
    "\n",
    "    v1 = (a2*S_1**2)/(a3+S_1**2)\n",
    "    v2 = b1/(1+b2*S_1**5)\n",
    "    v3 = S_1/(1+S_1+S_2)\n",
    "    v4 = S_2/(1+S_1+S_2)\n",
    "    \n",
    "    return [a1 + v1 - v3, v2 - v4]"
   ]
  },
  {
   "cell_type": "code",
   "execution_count": 4,
   "metadata": {},
   "outputs": [],
   "source": [
    "n = 2\n",
    "dt = 0.01\n",
    "tspan = np.arange(0, 1 + dt, dt)\n",
    "len_t = len(tspan)\n",
    "# options = odeset('RelTol',1e-7,'AbsTol',1e-7)\n",
    "\n",
    "sss = 10\n",
    "np.random.seed(12345)\n",
    "Sinit = np.random.rand(n)\n",
    "Sinit = np.random.rand(sss,n)\n",
    "Sinit = np.concatenate((Sinit, 2*np.random.rand(sss,n)))\n",
    "Sinit = np.concatenate((Sinit, 3*np.random.rand(sss,n)))\n",
    "measure = len(Sinit)\n",
    "\n",
    "tt = np.empty((len_t,measure))\n",
    "x = np.empty((len_t,n,measure))\n",
    "for ii in range(measure - 1):\n",
    "    sol = integrate.solve_ivp(yeastglycolysisNM, [0, len_t], Sinit[ii,:],\n",
    "                                 t_eval=tspan, rtol = 1e-7, atol = 1e-7)\n",
    "    tt[:,ii] = sol.t\n",
    "    x[:,:,ii] = sol.y.T\n",
    "\n",
    "xn = x\n",
    "xt = np.empty((0,n))\n",
    "dxt= np.empty(xt.shape)\n",
    "t = np.empty((0,))\n",
    "dxf = np.empty((len_t,n,measure))\n",
    "for ll in range (measure):\n",
    "    for ii in range(len_t):\n",
    "        dxf[ii,:,ll] = yeastglycolysisNM(t,xn[ii,:, ll])\n",
    "    \n",
    "    dxt = np.concatenate((dxt, dxf[:,:,ll]))\n",
    "    xt = np.concatenate((xt, xn[:,:,ll]))\n",
    "    t = np.concatenate((t, tt[:, ll]))"
   ]
  },
  {
   "cell_type": "code",
   "execution_count": 5,
   "metadata": {},
   "outputs": [
    {
     "name": "stderr",
     "output_type": "stream",
     "text": [
      "/Library/Frameworks/Python.framework/Versions/3.6/lib/python3.6/site-packages/findiff/findiff.py:242: FutureWarning: Using a non-tuple sequence for multidimensional indexing is deprecated; use `arr[tuple(seq)]` instead of `arr[seq]`. In the future this will be interpreted as an array index, `arr[np.array(seq)]`, which will result either in an error or a different result.\n",
      "  yd[ref_multi_slice] += w * y[off_multi_slice]\n"
     ]
    },
    {
     "name": "stdout",
     "output_type": "stream",
     "text": [
      "(42, 30)\n",
      "(42, 31)\n"
     ]
    },
    {
     "data": {
      "text/plain": [
       "<pySINDy.isindy.ISINDy at 0x11cb7e198>"
      ]
     },
     "execution_count": 5,
     "metadata": {},
     "output_type": "execute_result"
    }
   ],
   "source": [
    "isindy_model = ISINDy(name = 'isindy')\n",
    "isindy_model.fit(xt.T, 0.01, poly_degree=5)"
   ]
  },
  {
   "cell_type": "code",
   "execution_count": 6,
   "metadata": {},
   "outputs": [
    {
     "data": {
      "text/plain": [
       "array([[ 0.        ,  0.        ],\n",
       "       [ 0.        , -0.01615324],\n",
       "       [ 0.        ,  0.        ],\n",
       "       [ 0.        , -0.03065759],\n",
       "       [ 0.        ,  0.        ],\n",
       "       [ 0.        ,  0.        ],\n",
       "       [-0.02512156,  0.        ],\n",
       "       [ 0.        ,  0.        ],\n",
       "       [ 0.        ,  0.        ],\n",
       "       [ 0.        , -0.03515374],\n",
       "       [ 0.        ,  0.02903882],\n",
       "       [-0.01498001,  0.        ],\n",
       "       [ 0.        ,  0.        ],\n",
       "       [ 0.        ,  0.        ],\n",
       "       [ 0.        ,  0.        ],\n",
       "       [ 0.        ,  0.        ],\n",
       "       [ 0.        ,  0.        ],\n",
       "       [-0.07320931,  0.05895461],\n",
       "       [ 0.03699767,  0.        ],\n",
       "       [ 0.086033  ,  0.        ],\n",
       "       [-0.0056439 ,  0.        ],\n",
       "       [ 0.        , -0.07255871],\n",
       "       [ 0.        ,  0.        ],\n",
       "       [ 0.        ,  0.        ],\n",
       "       [ 0.        ,  0.        ],\n",
       "       [ 0.        ,  0.        ],\n",
       "       [ 0.        ,  0.        ],\n",
       "       [ 0.        ,  0.        ],\n",
       "       [ 0.        ,  0.        ],\n",
       "       [ 0.        ,  0.        ],\n",
       "       [ 0.        ,  0.        ],\n",
       "       [ 0.01604364,  0.        ],\n",
       "       [ 0.        ,  0.        ],\n",
       "       [ 0.        ,  0.        ],\n",
       "       [ 0.        ,  0.        ],\n",
       "       [ 0.        ,  0.        ],\n",
       "       [ 0.69841367,  0.        ],\n",
       "       [ 0.06100478,  0.        ],\n",
       "       [-0.70218613, -0.770822  ],\n",
       "       [ 0.        ,  0.02572642],\n",
       "       [ 0.        ,  0.25575955],\n",
       "       [ 0.        ,  0.57229397]])"
      ]
     },
     "execution_count": 6,
     "metadata": {},
     "output_type": "execute_result"
    }
   ],
   "source": [
    "isindy_model.coefficients()"
   ]
  },
  {
   "cell_type": "code",
   "execution_count": 7,
   "metadata": {},
   "outputs": [
    {
     "data": {
      "text/plain": [
       "['1',\n",
       " 'u0',\n",
       " 'u1',\n",
       " 'u0^{2}',\n",
       " 'u0u1',\n",
       " 'u1^{2}',\n",
       " 'u0^{3}',\n",
       " 'u0^{2}u1',\n",
       " 'u0u1^{2}',\n",
       " 'u1^{3}',\n",
       " 'u0^{4}',\n",
       " 'u1^{4}',\n",
       " 'u0^{3}u1',\n",
       " 'u0^{2}u1^{2}',\n",
       " 'u0u1^{3}',\n",
       " 'u0^{2}u1^{3}',\n",
       " 'u0^{4}u1',\n",
       " 'u0u1^{4}',\n",
       " 'u0^{5}',\n",
       " 'u0^{3}u1^{2}',\n",
       " 'u1^{5}',\n",
       " 'uk_{t}',\n",
       " 'u0uk_{t}',\n",
       " 'u1uk_{t}',\n",
       " 'u0^{2}uk_{t}',\n",
       " 'u0u1uk_{t}',\n",
       " 'u1^{2}uk_{t}',\n",
       " 'u0^{3}uk_{t}',\n",
       " 'u0^{2}u1uk_{t}',\n",
       " 'u0u1^{2}uk_{t}',\n",
       " 'u1^{3}uk_{t}',\n",
       " 'u0^{4}uk_{t}',\n",
       " 'u1^{4}uk_{t}',\n",
       " 'u0^{3}u1uk_{t}',\n",
       " 'u0^{2}u1^{2}uk_{t}',\n",
       " 'u0u1^{3}uk_{t}',\n",
       " 'u0^{2}u1^{3}uk_{t}',\n",
       " 'u0^{4}u1uk_{t}',\n",
       " 'u0u1^{4}uk_{t}',\n",
       " 'u0^{5}uk_{t}',\n",
       " 'u0^{3}u1^{2}uk_{t}',\n",
       " 'u1^{5}uk_{t}']"
      ]
     },
     "execution_count": 7,
     "metadata": {},
     "output_type": "execute_result"
    }
   ],
   "source": [
    "isindy_model.descriptions()"
   ]
  },
  {
   "cell_type": "code",
   "execution_count": null,
   "metadata": {},
   "outputs": [],
   "source": []
  }
 ],
 "metadata": {
  "kernelspec": {
   "display_name": "Python 3",
   "language": "python",
   "name": "python3"
  },
  "language_info": {
   "codemirror_mode": {
    "name": "ipython",
    "version": 3
   },
   "file_extension": ".py",
   "mimetype": "text/x-python",
   "name": "python",
   "nbconvert_exporter": "python",
   "pygments_lexer": "ipython3",
   "version": "3.6.4"
  }
 },
 "nbformat": 4,
 "nbformat_minor": 2
}
